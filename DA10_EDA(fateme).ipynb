{
 "cells": [
  {
   "cell_type": "code",
   "execution_count": 1,
   "id": "0c50f2ef",
   "metadata": {},
   "outputs": [],
   "source": [
    "import numpy as np\n",
    "import pandas as pd\n",
    "import matplotlib.pyplot as plt\n",
    "import seaborn as sns\n"
   ]
  },
  {
   "cell_type": "code",
   "execution_count": 2,
   "id": "44e4820b",
   "metadata": {},
   "outputs": [],
   "source": [
    "df= pd.read_csv(\"C:/Users/RayanSoft/bank_loan.csv\")"
   ]
  },
  {
   "cell_type": "code",
   "execution_count": 3,
   "id": "3e68556c",
   "metadata": {},
   "outputs": [
    {
     "data": {
      "text/html": [
       "<div>\n",
       "<style scoped>\n",
       "    .dataframe tbody tr th:only-of-type {\n",
       "        vertical-align: middle;\n",
       "    }\n",
       "\n",
       "    .dataframe tbody tr th {\n",
       "        vertical-align: top;\n",
       "    }\n",
       "\n",
       "    .dataframe thead th {\n",
       "        text-align: right;\n",
       "    }\n",
       "</style>\n",
       "<table border=\"1\" class=\"dataframe\">\n",
       "  <thead>\n",
       "    <tr style=\"text-align: right;\">\n",
       "      <th></th>\n",
       "      <th>ApplicationDate</th>\n",
       "      <th>Age</th>\n",
       "      <th>AnnualIncome</th>\n",
       "      <th>CreditScore</th>\n",
       "      <th>EmploymentStatus</th>\n",
       "      <th>EducationLevel</th>\n",
       "      <th>Experience</th>\n",
       "      <th>LoanAmount</th>\n",
       "      <th>LoanDuration</th>\n",
       "      <th>MaritalStatus</th>\n",
       "      <th>...</th>\n",
       "      <th>MonthlyIncome</th>\n",
       "      <th>UtilityBillsPaymentHistory</th>\n",
       "      <th>JobTenure</th>\n",
       "      <th>NetWorth</th>\n",
       "      <th>BaseInterestRate</th>\n",
       "      <th>InterestRate</th>\n",
       "      <th>MonthlyLoanPayment</th>\n",
       "      <th>TotalDebtToIncomeRatio</th>\n",
       "      <th>RiskScore</th>\n",
       "      <th>LoanApproved</th>\n",
       "    </tr>\n",
       "  </thead>\n",
       "  <tbody>\n",
       "    <tr>\n",
       "      <th>0</th>\n",
       "      <td>2072-08-01</td>\n",
       "      <td>22</td>\n",
       "      <td>63052</td>\n",
       "      <td>631</td>\n",
       "      <td>Employed</td>\n",
       "      <td>Master</td>\n",
       "      <td>2</td>\n",
       "      <td>18271</td>\n",
       "      <td>12</td>\n",
       "      <td>Married</td>\n",
       "      <td>...</td>\n",
       "      <td>5254.333333</td>\n",
       "      <td>0.639338</td>\n",
       "      <td>3.0</td>\n",
       "      <td>1409</td>\n",
       "      <td>0.167771</td>\n",
       "      <td>0.156702</td>\n",
       "      <td>1654.893043</td>\n",
       "      <td>0.397366</td>\n",
       "      <td>51.0</td>\n",
       "      <td>0</td>\n",
       "    </tr>\n",
       "    <tr>\n",
       "      <th>1</th>\n",
       "      <td>2068-04-14</td>\n",
       "      <td>42</td>\n",
       "      <td>62117</td>\n",
       "      <td>522</td>\n",
       "      <td>Employed</td>\n",
       "      <td>Associate</td>\n",
       "      <td>20</td>\n",
       "      <td>29281</td>\n",
       "      <td>108</td>\n",
       "      <td>Divorced</td>\n",
       "      <td>...</td>\n",
       "      <td>5176.416667</td>\n",
       "      <td>0.835783</td>\n",
       "      <td>5.0</td>\n",
       "      <td>106328</td>\n",
       "      <td>0.313281</td>\n",
       "      <td>0.294022</td>\n",
       "      <td>774.117592</td>\n",
       "      <td>0.190888</td>\n",
       "      <td>50.0</td>\n",
       "      <td>0</td>\n",
       "    </tr>\n",
       "    <tr>\n",
       "      <th>2</th>\n",
       "      <td>2062-04-07</td>\n",
       "      <td>31</td>\n",
       "      <td>32448</td>\n",
       "      <td>544</td>\n",
       "      <td>Employed</td>\n",
       "      <td>Bachelor</td>\n",
       "      <td>5</td>\n",
       "      <td>33395</td>\n",
       "      <td>60</td>\n",
       "      <td>Divorced</td>\n",
       "      <td>...</td>\n",
       "      <td>2704.000000</td>\n",
       "      <td>0.879069</td>\n",
       "      <td>3.0</td>\n",
       "      <td>8626</td>\n",
       "      <td>0.266395</td>\n",
       "      <td>0.286945</td>\n",
       "      <td>1053.817922</td>\n",
       "      <td>0.531368</td>\n",
       "      <td>54.0</td>\n",
       "      <td>0</td>\n",
       "    </tr>\n",
       "    <tr>\n",
       "      <th>3</th>\n",
       "      <td>2031-05-29</td>\n",
       "      <td>19</td>\n",
       "      <td>32182</td>\n",
       "      <td>478</td>\n",
       "      <td>Unemployed</td>\n",
       "      <td>Master</td>\n",
       "      <td>0</td>\n",
       "      <td>49105</td>\n",
       "      <td>24</td>\n",
       "      <td>Single</td>\n",
       "      <td>...</td>\n",
       "      <td>2681.833333</td>\n",
       "      <td>0.868833</td>\n",
       "      <td>7.0</td>\n",
       "      <td>96744</td>\n",
       "      <td>0.285105</td>\n",
       "      <td>0.247245</td>\n",
       "      <td>2614.025710</td>\n",
       "      <td>1.125732</td>\n",
       "      <td>53.0</td>\n",
       "      <td>0</td>\n",
       "    </tr>\n",
       "    <tr>\n",
       "      <th>4</th>\n",
       "      <td>2024-04-04</td>\n",
       "      <td>45</td>\n",
       "      <td>77191</td>\n",
       "      <td>646</td>\n",
       "      <td>Employed</td>\n",
       "      <td>Master</td>\n",
       "      <td>21</td>\n",
       "      <td>99655</td>\n",
       "      <td>24</td>\n",
       "      <td>Married</td>\n",
       "      <td>...</td>\n",
       "      <td>6432.583333</td>\n",
       "      <td>0.982722</td>\n",
       "      <td>8.0</td>\n",
       "      <td>16312</td>\n",
       "      <td>0.251655</td>\n",
       "      <td>0.256010</td>\n",
       "      <td>5348.835792</td>\n",
       "      <td>0.924642</td>\n",
       "      <td>52.0</td>\n",
       "      <td>0</td>\n",
       "    </tr>\n",
       "  </tbody>\n",
       "</table>\n",
       "<p>5 rows × 36 columns</p>\n",
       "</div>"
      ],
      "text/plain": [
       "  ApplicationDate  Age  AnnualIncome  CreditScore EmploymentStatus  \\\n",
       "0      2072-08-01   22         63052          631         Employed   \n",
       "1      2068-04-14   42         62117          522         Employed   \n",
       "2      2062-04-07   31         32448          544         Employed   \n",
       "3      2031-05-29   19         32182          478       Unemployed   \n",
       "4      2024-04-04   45         77191          646         Employed   \n",
       "\n",
       "  EducationLevel  Experience LoanAmount  LoanDuration MaritalStatus  ...  \\\n",
       "0         Master           2      18271            12       Married  ...   \n",
       "1      Associate          20      29281           108      Divorced  ...   \n",
       "2       Bachelor           5      33395            60      Divorced  ...   \n",
       "3         Master           0      49105            24        Single  ...   \n",
       "4         Master          21      99655            24       Married  ...   \n",
       "\n",
       "   MonthlyIncome UtilityBillsPaymentHistory  JobTenure  NetWorth  \\\n",
       "0    5254.333333                   0.639338        3.0      1409   \n",
       "1    5176.416667                   0.835783        5.0    106328   \n",
       "2    2704.000000                   0.879069        3.0      8626   \n",
       "3    2681.833333                   0.868833        7.0     96744   \n",
       "4    6432.583333                   0.982722        8.0     16312   \n",
       "\n",
       "   BaseInterestRate  InterestRate  MonthlyLoanPayment  TotalDebtToIncomeRatio  \\\n",
       "0          0.167771      0.156702         1654.893043                0.397366   \n",
       "1          0.313281      0.294022          774.117592                0.190888   \n",
       "2          0.266395      0.286945         1053.817922                0.531368   \n",
       "3          0.285105      0.247245         2614.025710                1.125732   \n",
       "4          0.251655      0.256010         5348.835792                0.924642   \n",
       "\n",
       "  RiskScore  LoanApproved  \n",
       "0      51.0             0  \n",
       "1      50.0             0  \n",
       "2      54.0             0  \n",
       "3      53.0             0  \n",
       "4      52.0             0  \n",
       "\n",
       "[5 rows x 36 columns]"
      ]
     },
     "execution_count": 3,
     "metadata": {},
     "output_type": "execute_result"
    }
   ],
   "source": [
    "df.head()"
   ]
  },
  {
   "cell_type": "code",
   "execution_count": 7,
   "id": "19ccd5d5",
   "metadata": {},
   "outputs": [
    {
     "data": {
      "text/html": [
       "<div>\n",
       "<style scoped>\n",
       "    .dataframe tbody tr th:only-of-type {\n",
       "        vertical-align: middle;\n",
       "    }\n",
       "\n",
       "    .dataframe tbody tr th {\n",
       "        vertical-align: top;\n",
       "    }\n",
       "\n",
       "    .dataframe thead th {\n",
       "        text-align: right;\n",
       "    }\n",
       "</style>\n",
       "<table border=\"1\" class=\"dataframe\">\n",
       "  <thead>\n",
       "    <tr style=\"text-align: right;\">\n",
       "      <th></th>\n",
       "      <th>LoanAmount</th>\n",
       "      <th>LoanPurpose</th>\n",
       "      <th>MonthlyDebtPayments</th>\n",
       "      <th>LoanDuration</th>\n",
       "    </tr>\n",
       "  </thead>\n",
       "  <tbody>\n",
       "    <tr>\n",
       "      <th>0</th>\n",
       "      <td>18271</td>\n",
       "      <td>Education</td>\n",
       "      <td>433.0</td>\n",
       "      <td>12</td>\n",
       "    </tr>\n",
       "    <tr>\n",
       "      <th>1</th>\n",
       "      <td>29281</td>\n",
       "      <td>Auto</td>\n",
       "      <td>214.0</td>\n",
       "      <td>108</td>\n",
       "    </tr>\n",
       "    <tr>\n",
       "      <th>2</th>\n",
       "      <td>33395</td>\n",
       "      <td>Debt Consolidation</td>\n",
       "      <td>383.0</td>\n",
       "      <td>60</td>\n",
       "    </tr>\n",
       "    <tr>\n",
       "      <th>3</th>\n",
       "      <td>49105</td>\n",
       "      <td>Home</td>\n",
       "      <td>405.0</td>\n",
       "      <td>24</td>\n",
       "    </tr>\n",
       "    <tr>\n",
       "      <th>4</th>\n",
       "      <td>99655</td>\n",
       "      <td>Auto</td>\n",
       "      <td>599.0</td>\n",
       "      <td>24</td>\n",
       "    </tr>\n",
       "    <tr>\n",
       "      <th>5</th>\n",
       "      <td>19659</td>\n",
       "      <td>Home</td>\n",
       "      <td>248.0</td>\n",
       "      <td>96</td>\n",
       "    </tr>\n",
       "    <tr>\n",
       "      <th>6</th>\n",
       "      <td>30742</td>\n",
       "      <td>Home</td>\n",
       "      <td>452.0</td>\n",
       "      <td>48</td>\n",
       "    </tr>\n",
       "    <tr>\n",
       "      <th>7</th>\n",
       "      <td>21627</td>\n",
       "      <td>Home</td>\n",
       "      <td>518.0</td>\n",
       "      <td>60</td>\n",
       "    </tr>\n",
       "    <tr>\n",
       "      <th>8</th>\n",
       "      <td>29320</td>\n",
       "      <td>Home</td>\n",
       "      <td>525.0</td>\n",
       "      <td>96</td>\n",
       "    </tr>\n",
       "    <tr>\n",
       "      <th>9</th>\n",
       "      <td>17255</td>\n",
       "      <td>Home</td>\n",
       "      <td>392.0</td>\n",
       "      <td>84</td>\n",
       "    </tr>\n",
       "    <tr>\n",
       "      <th>10</th>\n",
       "      <td>23743</td>\n",
       "      <td>Auto</td>\n",
       "      <td>276.0</td>\n",
       "      <td>84</td>\n",
       "    </tr>\n",
       "    <tr>\n",
       "      <th>11</th>\n",
       "      <td>21514</td>\n",
       "      <td>Home</td>\n",
       "      <td>402.0</td>\n",
       "      <td>24</td>\n",
       "    </tr>\n",
       "    <tr>\n",
       "      <th>12</th>\n",
       "      <td>38101</td>\n",
       "      <td>Debt Consolidation</td>\n",
       "      <td>580.0</td>\n",
       "      <td>36</td>\n",
       "    </tr>\n",
       "    <tr>\n",
       "      <th>13</th>\n",
       "      <td>21691</td>\n",
       "      <td>Auto</td>\n",
       "      <td>790.0</td>\n",
       "      <td>48</td>\n",
       "    </tr>\n",
       "    <tr>\n",
       "      <th>14</th>\n",
       "      <td>6896</td>\n",
       "      <td>Home</td>\n",
       "      <td>1042.0</td>\n",
       "      <td>36</td>\n",
       "    </tr>\n",
       "    <tr>\n",
       "      <th>15</th>\n",
       "      <td>31907</td>\n",
       "      <td>Education</td>\n",
       "      <td>560.0</td>\n",
       "      <td>84</td>\n",
       "    </tr>\n",
       "    <tr>\n",
       "      <th>16</th>\n",
       "      <td>18546</td>\n",
       "      <td>Auto</td>\n",
       "      <td>458.0</td>\n",
       "      <td>120</td>\n",
       "    </tr>\n",
       "    <tr>\n",
       "      <th>17</th>\n",
       "      <td>11664</td>\n",
       "      <td>Home</td>\n",
       "      <td>230.0</td>\n",
       "      <td>48</td>\n",
       "    </tr>\n",
       "    <tr>\n",
       "      <th>18</th>\n",
       "      <td>15186</td>\n",
       "      <td>Debt Consolidation</td>\n",
       "      <td>556.0</td>\n",
       "      <td>36</td>\n",
       "    </tr>\n",
       "    <tr>\n",
       "      <th>19</th>\n",
       "      <td>16570</td>\n",
       "      <td>Home</td>\n",
       "      <td>586.0</td>\n",
       "      <td>72</td>\n",
       "    </tr>\n",
       "  </tbody>\n",
       "</table>\n",
       "</div>"
      ],
      "text/plain": [
       "   LoanAmount         LoanPurpose  MonthlyDebtPayments  LoanDuration\n",
       "0       18271           Education                433.0            12\n",
       "1       29281                Auto                214.0           108\n",
       "2       33395  Debt Consolidation                383.0            60\n",
       "3       49105                Home                405.0            24\n",
       "4       99655                Auto                599.0            24\n",
       "5       19659                Home                248.0            96\n",
       "6       30742                Home                452.0            48\n",
       "7       21627                Home                518.0            60\n",
       "8       29320                Home                525.0            96\n",
       "9       17255                Home                392.0            84\n",
       "10      23743                Auto                276.0            84\n",
       "11      21514                Home                402.0            24\n",
       "12      38101  Debt Consolidation                580.0            36\n",
       "13      21691                Auto                790.0            48\n",
       "14       6896                Home               1042.0            36\n",
       "15      31907           Education                560.0            84\n",
       "16      18546                Auto                458.0           120\n",
       "17      11664                Home                230.0            48\n",
       "18      15186  Debt Consolidation                556.0            36\n",
       "19      16570                Home                586.0            72"
      ]
     },
     "execution_count": 7,
     "metadata": {},
     "output_type": "execute_result"
    }
   ],
   "source": [
    "df_Loan_Details=df[['LoanAmount','LoanPurpose','MonthlyDebtPayments','LoanDuration']]\n",
    "df_Loan_Details.head(20)"
   ]
  },
  {
   "cell_type": "code",
   "execution_count": 19,
   "id": "8e9a1f89",
   "metadata": {},
   "outputs": [
    {
     "data": {
      "text/plain": [
       "0     18271\n",
       "1     29281\n",
       "2     33395\n",
       "3     49105\n",
       "4     99655\n",
       "5     19659\n",
       "6     30742\n",
       "7     21627\n",
       "8     29320\n",
       "9     17255\n",
       "10    23743\n",
       "11    21514\n",
       "12    38101\n",
       "13    21691\n",
       "14     6896\n",
       "15    31907\n",
       "16    18546\n",
       "17    11664\n",
       "18    15186\n",
       "19    16570\n",
       "Name: LoanAmount, dtype: object"
      ]
     },
     "execution_count": 19,
     "metadata": {},
     "output_type": "execute_result"
    }
   ],
   "source": [
    "\n",
    "df['LoanAmount'].head(20)"
   ]
  },
  {
   "cell_type": "code",
   "execution_count": 20,
   "id": "a1a27b0a",
   "metadata": {},
   "outputs": [
    {
     "data": {
      "text/plain": [
       "1049      17426\n",
       "1964    $19,495\n",
       "526       15489\n",
       "1347      22901\n",
       "2010      22147\n",
       "1717      30587\n",
       "118        8782\n",
       "1933      22815\n",
       "681       20010\n",
       "1412      22109\n",
       "1293      18926\n",
       "1263      13688\n",
       "1317       9073\n",
       "631       45863\n",
       "1090      11490\n",
       "573       15152\n",
       "1732      14605\n",
       "510        9793\n",
       "609        9793\n",
       "1612      25882\n",
       "Name: LoanAmount, dtype: object"
      ]
     },
     "execution_count": 20,
     "metadata": {},
     "output_type": "execute_result"
    }
   ],
   "source": [
    "df['LoanAmount'].sample(20)"
   ]
  },
  {
   "cell_type": "code",
   "execution_count": 21,
   "id": "ba79f3ab",
   "metadata": {},
   "outputs": [
    {
     "data": {
      "text/plain": [
       "count      2050.000000\n",
       "mean      25384.609756\n",
       "std       14328.906869\n",
       "min        4188.000000\n",
       "25%       16100.000000\n",
       "50%       22112.500000\n",
       "75%       30876.250000\n",
       "max      158686.000000\n",
       "Name: LoanAmount, dtype: float64"
      ]
     },
     "execution_count": 21,
     "metadata": {},
     "output_type": "execute_result"
    }
   ],
   "source": [
    "df['LoanAmount'] = (df['LoanAmount'].astype(str).str.replace(r'[^0-9.-]', '', regex=True).replace('', np.nan).astype(float))\n",
    "df['LoanAmount'].describe()"
   ]
  },
  {
   "cell_type": "markdown",
   "id": "b1bd7509",
   "metadata": {},
   "source": [
    "# plot functions:"
   ]
  },
  {
   "cell_type": "code",
   "execution_count": null,
   "id": "242d09ab",
   "metadata": {},
   "outputs": [],
   "source": [
    "def plot_numeric_distribution(df, column):\n",
    "    \n",
    "    # histogram, KDE, boxplot for a numeric column.\n",
    "    fig, axes = plt.subplots(2, 1, figsize=(10, 6), \n",
    "                             gridspec_kw={'height_ratios': [3, 1]})\n",
    "    \n",
    "    # Histogram + KDE\n",
    "    sns.histplot(df[column].dropna(), bins=30, kde=True, ax=axes[0], color='skyblue')\n",
    "    axes[0].set_title(f'Distribution of {column}')\n",
    "    axes[0].set_xlabel(column)\n",
    "    axes[0].set_ylabel('Count')\n",
    "    \n",
    "    # Boxplot\n",
    "    sns.boxplot(x=df[column], ax=axes[1], color='lightgreen')\n",
    "    axes[1].set_xlabel(column)\n",
    "    \n",
    "    plt.tight_layout()\n",
    "    plt.show()\n",
    "def analyze_binary_column(df, column):\n",
    "    counts = df[column].value_counts().sort_index()\n",
    "    total = len(df[column])\n",
    "    percents = (counts / total * 100).round(2)\n",
    "\n",
    "    plt.figure(figsize=(6,4))\n",
    "    sns.barplot(x=counts.index, y=counts.values, palette='Paired')\n",
    "    plt.title(f'Distribution of {column}')\n",
    "    plt.xlabel(column)\n",
    "    plt.ylabel('Count')\n",
    "    plt.show()\n",
    "    \n",
    "    summary_df = pd.DataFrame({\n",
    "        'Count': counts,\n",
    "        'Percentage': percents\n",
    "    })\n",
    "    print(\"Summary statistics:\")\n",
    "    print(summary_df)\n",
    "    \n",
    "    most_value = counts.idxmax()\n",
    "    most_percent = percents[most_value]\n",
    "    least_value = counts.idxmin()\n",
    "    least_percent = percents[least_value]"
   ]
  },
  {
   "cell_type": "markdown",
   "id": "4331558c",
   "metadata": {},
   "source": [
    "# EDA - Univariate :"
   ]
  },
  {
   "cell_type": "markdown",
   "id": "fe78a1f8",
   "metadata": {},
   "source": [
    " # LoanAmount :"
   ]
  },
  {
   "cell_type": "code",
   "execution_count": 23,
   "id": "3a2cd754",
   "metadata": {},
   "outputs": [
    {
     "data": {
      "image/png": "[encoded data removed]",
      "text/plain": [
       "<Figure size 1000x600 with 2 Axes>"
      ]
     },
     "metadata": {},
     "output_type": "display_data"
    },
    {
     "data": {
      "text/plain": [
       "count      2050.000000\n",
       "mean      25384.609756\n",
       "std       14328.906869\n",
       "min        4188.000000\n",
       "25%       16100.000000\n",
       "50%       22112.500000\n",
       "75%       30876.250000\n",
       "max      158686.000000\n",
       "Name: LoanAmount, dtype: float64"
      ]
     },
     "execution_count": 23,
     "metadata": {},
     "output_type": "execute_result"
    }
   ],
   "source": [
    "plot_numeric_distribution(df, 'LoanAmount')\n",
    "df['LoanAmount'].describe()"
   ]
  },
  {
   "cell_type": "markdown",
   "id": "b0aea4d8",
   "metadata": {},
   "source": [
    "Distribution: right-skewed\n",
    "\n",
    "The approximate loan amount applicants is between 10,000 and 30,000.\n",
    "\n",
    "Median is around 25385.000.\n",
    "\n",
    "We have approximately 35% outliers, with values ranging from 55,000 to 85,000."
   ]
  },
  {
   "cell_type": "markdown",
   "id": "ef2c43eb",
   "metadata": {},
   "source": [
    "# LoanDuration :"
   ]
  },
  {
   "cell_type": "code",
   "execution_count": 31,
   "id": "94f521a2",
   "metadata": {},
   "outputs": [
    {
     "name": "stderr",
     "output_type": "stream",
     "text": [
      "C:\\Users\\RayanSoft\\AppData\\Local\\Temp\\ipykernel_11660\\3851314117.py:7: FutureWarning: \n",
      "\n",
      "Passing `palette` without assigning `hue` is deprecated and will be removed in v0.14.0. Assign the `x` variable to `hue` and set `legend=False` for the same effect.\n",
      "\n",
      "  sns.barplot(x=counts.index, y=counts.values, palette='Paired')\n"
     ]
    },
    {
     "data": {
      "image/png": "[encoded data removed]",
      "text/plain": [
       "<Figure size 600x400 with 1 Axes>"
      ]
     },
     "metadata": {},
     "output_type": "display_data"
    },
    {
     "name": "stdout",
     "output_type": "stream",
     "text": [
      "Summary statistics:\n",
      "              Count  Percentage\n",
      "LoanDuration                   \n",
      "12               92        4.49\n",
      "24              209       10.20\n",
      "36              387       18.88\n",
      "48              438       21.37\n",
      "60              402       19.61\n",
      "72              210       10.24\n",
      "84              104        5.07\n",
      "96              103        5.02\n",
      "108              60        2.93\n",
      "120              45        2.20\n"
     ]
    }
   ],
   "source": [
    "analyze_binary_column(df,'LoanDuration')"
   ]
  },
  {
   "cell_type": "markdown",
   "id": "8d2e127c",
   "metadata": {},
   "source": [
    "the most Loan Duration is 48 months.and it is 21%.\n",
    "\n",
    "result : the maximum Loan Duration is 36,48and 60 months."
   ]
  },
  {
   "cell_type": "markdown",
   "id": "e056a892",
   "metadata": {},
   "source": [
    "# LoanPurpose :"
   ]
  },
  {
   "cell_type": "code",
   "execution_count": 33,
   "id": "86a9edb8",
   "metadata": {},
   "outputs": [
    {
     "name": "stderr",
     "output_type": "stream",
     "text": [
      "C:\\Users\\RayanSoft\\AppData\\Local\\Temp\\ipykernel_11660\\2930126417.py:25: FutureWarning: \n",
      "\n",
      "Passing `palette` without assigning `hue` is deprecated and will be removed in v0.14.0. Assign the `x` variable to `hue` and set `legend=False` for the same effect.\n",
      "\n",
      "  sns.barplot(x=counts.index, y=counts.values, palette='Paired')\n"
     ]
    },
    {
     "data": {
      "image/png": "[encoded data removed]",
      "text/plain": [
       "<Figure size 600x400 with 1 Axes>"
      ]
     },
     "metadata": {},
     "output_type": "display_data"
    },
    {
     "name": "stdout",
     "output_type": "stream",
     "text": [
      "Summary statistics:\n",
      "                    Count  Percentage\n",
      "LoanPurpose                          \n",
      "Auto                  441       21.51\n",
      "Debt Consolidation    515       25.12\n",
      "Education             272       13.27\n",
      "Home                  618       30.15\n",
      "Other                 204        9.95\n"
     ]
    }
   ],
   "source": [
    "analyze_binary_column(df, 'LoanPurpose')"
   ]
  },
  {
   "cell_type": "markdown",
   "id": "77e7f534",
   "metadata": {},
   "source": [
    "most LoanPurpose was for Home and then Debt Consolidation and Auto the next ones are.\n",
    "\n",
    "\n",
    "Because it has been mostly used for home, so we can offer more suggestions at home."
   ]
  },
  {
   "cell_type": "code",
   "execution_count": 28,
   "id": "c6ceff0f",
   "metadata": {},
   "outputs": [
    {
     "data": {
      "image/png": "[encoded data removed]",
      "text/plain": [
       "<Figure size 1000x600 with 2 Axes>"
      ]
     },
     "metadata": {},
     "output_type": "display_data"
    },
    {
     "data": {
      "text/plain": [
       "count    2009.000000\n",
       "mean      457.295669\n",
       "std       239.521001\n",
       "min        85.000000\n",
       "25%       289.000000\n",
       "50%       405.000000\n",
       "75%       568.000000\n",
       "max      2375.000000\n",
       "Name: MonthlyDebtPayments, dtype: float64"
      ]
     },
     "execution_count": 28,
     "metadata": {},
     "output_type": "execute_result"
    }
   ],
   "source": [
    "plot_numeric_distribution(df, 'MonthlyDebtPayments')\n",
    "df['MonthlyDebtPayments'].describe()"
   ]
  },
  {
   "cell_type": "markdown",
   "id": "274cd81c",
   "metadata": {},
   "source": [
    "median is about 457.000\n",
    "\n",
    "Outliers are in the range 1000 to 1500.\n",
    "\n",
    "Total starts from 85,000 to 2,375,000"
   ]
  }
 ],
 "metadata": {
  "kernelspec": {
   "display_name": "quera2",
   "language": "python",
   "name": "python3"
  },
  "language_info": {
   "codemirror_mode": {
    "name": "ipython",
    "version": 3
   },
   "file_extension": ".py",
   "mimetype": "text/x-python",
   "name": "python",
   "nbconvert_exporter": "python",
   "pygments_lexer": "ipython3",
   "version": "3.9.23"
  }
 },
 "nbformat": 4,
 "nbformat_minor": 5
}
